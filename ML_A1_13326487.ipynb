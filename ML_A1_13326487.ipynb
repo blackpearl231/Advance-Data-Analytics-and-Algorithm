{
  "nbformat": 4,
  "nbformat_minor": 0,
  "metadata": {
    "colab": {
      "name": "Untitled1.ipynb",
      "version": "0.3.2",
      "provenance": [],
      "include_colab_link": true
    },
    "kernelspec": {
      "name": "python3",
      "display_name": "Python 3"
    }
  },
  "cells": [
    {
      "cell_type": "markdown",
      "metadata": {
        "id": "view-in-github",
        "colab_type": "text"
      },
      "source": [
        "<a href=\"https://colab.research.google.com/github/blackpearl231/UTS_ML_13326487/blob/master/ML_A1_13326487.ipynb\" target=\"_parent\"><img src=\"https://colab.research.google.com/assets/colab-badge.svg\" alt=\"Open In Colab\"/></a>"
      ]
    },
    {
      "cell_type": "code",
      "metadata": {
        "id": "Xw6DJonKEIWK",
        "colab_type": "code",
        "colab": {}
      },
      "source": [
        ""
      ],
      "execution_count": 0,
      "outputs": []
    },
    {
      "cell_type": "markdown",
      "metadata": {
        "id": "3qQZugc4EJ3s",
        "colab_type": "text"
      },
      "source": [
        "# Generative Adversarial Nets\n",
        "# Assignment 1\n",
        "done by:\n",
        "\n",
        "**Krut Kanjiya**\n",
        "\n",
        "**13326487**\n",
        "\n",
        "available at https://github.com/blackpearl231/UTS_ML_13326487.git\n",
        "\n",
        "\n",
        "\n",
        "\n",
        "\n",
        "\n",
        "\n",
        "# 1. Introduction\n",
        "\n",
        "\n",
        "\n",
        "This paper is about Generative Adversarial Nets, also known as GAN.  GAN is a part of generative models. These generative models can have two types of density. It can be either an Explicit density or an implicit density. Explicit density is further categorized as Tractable density and Approximate density. Pixel RNN and Pixel CNN have Tractable Density probability distribution If we further categorize approximate density, subcategories will be Variational and Markov Chain.  Variational Autoencoder is a part of Variational density distribution while the Boltzmann machine follows the Markov chain. Implicit Density is categorized as Direct and Markov chain. These are represented by GAN and GSN, respectively.\n",
        "\n",
        "This paper has a complete understanding of GAN and how does it work.\n",
        "![alt text](https://github.com/blackpearl231/UTS_ML_13326487/blob/master/Final.jpg)\n",
        "\n",
        "\n"
      ]
    }
  ]
}